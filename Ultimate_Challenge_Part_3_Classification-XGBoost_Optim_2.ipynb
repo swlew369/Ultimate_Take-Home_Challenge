{
 "cells": [
  {
   "cell_type": "code",
   "execution_count": 1,
   "metadata": {},
   "outputs": [],
   "source": [
    "import pandas as pd\n",
    "import seaborn as sns\n",
    "import numpy as np\n",
    "import time\n",
    "import re\n",
    "import nltk\n",
    "import math\n",
    "import os\n",
    "import matplotlib.pyplot as plt\n",
    "import sklearn.metrics\n",
    "import json \n",
    "from datetime import datetime\n",
    "\n",
    "from xgboost import XGBClassifier\n",
    "from sklearn.ensemble import VotingClassifier\n",
    "from sklearn.linear_model import PassiveAggressiveClassifier\n",
    "from sklearn.linear_model import RidgeClassifier\n",
    "from sklearn.naive_bayes import MultinomialNB\n",
    "from sklearn import linear_model\n",
    "from sklearn.linear_model import Perceptron\n",
    "\n",
    "from sklearn import svm\n",
    "from sklearn.ensemble import GradientBoostingClassifier\n",
    "from sklearn.tree import DecisionTreeClassifier\n",
    "from sklearn.preprocessing import StandardScaler\n",
    "from sklearn.model_selection import train_test_split, GridSearchCV\n",
    "from sklearn.linear_model import LogisticRegression\n",
    "from sklearn.neighbors import KNeighborsClassifier\n",
    "from sklearn.ensemble import RandomForestClassifier\n",
    "\n",
    "from sklearn import linear_model\n",
    "from sklearn.naive_bayes import MultinomialNB\n",
    "from sklearn.ensemble import VotingClassifier\n",
    "from sklearn.linear_model import PassiveAggressiveClassifier\n",
    "\n",
    "from nltk.corpus import stopwords\n",
    "from sklearn.feature_extraction.text import TfidfVectorizer\n",
    "from sklearn.feature_extraction.text import CountVectorizer\n",
    "from sklearn.metrics import roc_auc_score\n",
    "\n",
    "import sklearn.metrics\n",
    "from sklearn.metrics import confusion_matrix\n",
    "from sklearn.metrics import classification_report\n",
    "\n",
    "from sklearn.preprocessing import LabelEncoder\n",
    "\n",
    "from sklearn.model_selection import RandomizedSearchCV, GridSearchCV\n",
    "import pickle\n",
    "\n",
    "%matplotlib inline\n"
   ]
  },
  {
   "cell_type": "code",
   "execution_count": 2,
   "metadata": {},
   "outputs": [],
   "source": [
    "# https://stackoverflow.com/questions/956867/how-to-get-string-objects-instead-of-unicode-from-json\n",
    "\n",
    "def byteify(input):\n",
    "    if isinstance(input, dict):\n",
    "        return {byteify(key): byteify(value)\n",
    "                for key, value in input.iteritems()}\n",
    "    elif isinstance(input, list):\n",
    "        return [byteify(element) for element in input]\n",
    "    elif isinstance(input, unicode):\n",
    "        return input.encode('utf-8')\n",
    "    else:\n",
    "        return input"
   ]
  },
  {
   "cell_type": "code",
   "execution_count": 3,
   "metadata": {},
   "outputs": [
    {
     "data": {
      "text/html": [
       "<div>\n",
       "<style scoped>\n",
       "    .dataframe tbody tr th:only-of-type {\n",
       "        vertical-align: middle;\n",
       "    }\n",
       "\n",
       "    .dataframe tbody tr th {\n",
       "        vertical-align: top;\n",
       "    }\n",
       "\n",
       "    .dataframe thead th {\n",
       "        text-align: right;\n",
       "    }\n",
       "</style>\n",
       "<table border=\"1\" class=\"dataframe\">\n",
       "  <thead>\n",
       "    <tr style=\"text-align: right;\">\n",
       "      <th></th>\n",
       "      <th>avg_dist</th>\n",
       "      <th>avg_rating_by_driver</th>\n",
       "      <th>avg_rating_of_driver</th>\n",
       "      <th>avg_surge</th>\n",
       "      <th>city</th>\n",
       "      <th>last_trip_date</th>\n",
       "      <th>phone</th>\n",
       "      <th>signup_date</th>\n",
       "      <th>surge_pct</th>\n",
       "      <th>trips_in_first_30_days</th>\n",
       "      <th>ultimate_black_user</th>\n",
       "      <th>weekday_pct</th>\n",
       "      <th>month_last_trip</th>\n",
       "      <th>month_signup</th>\n",
       "      <th>delta_time_last_trip_months</th>\n",
       "      <th>long_term_status</th>\n",
       "    </tr>\n",
       "  </thead>\n",
       "  <tbody>\n",
       "    <tr>\n",
       "      <th>0</th>\n",
       "      <td>3.67</td>\n",
       "      <td>5.0</td>\n",
       "      <td>4.7</td>\n",
       "      <td>1.10</td>\n",
       "      <td>King's Landing</td>\n",
       "      <td>2014-06-17</td>\n",
       "      <td>iPhone</td>\n",
       "      <td>2014-01-25</td>\n",
       "      <td>15.4</td>\n",
       "      <td>4</td>\n",
       "      <td>True</td>\n",
       "      <td>46.2</td>\n",
       "      <td>6</td>\n",
       "      <td>1</td>\n",
       "      <td>4.698248</td>\n",
       "      <td>lt</td>\n",
       "    </tr>\n",
       "    <tr>\n",
       "      <th>1</th>\n",
       "      <td>8.26</td>\n",
       "      <td>5.0</td>\n",
       "      <td>5.0</td>\n",
       "      <td>1.00</td>\n",
       "      <td>Astapor</td>\n",
       "      <td>2014-05-05</td>\n",
       "      <td>Android</td>\n",
       "      <td>2014-01-29</td>\n",
       "      <td>0.0</td>\n",
       "      <td>0</td>\n",
       "      <td>False</td>\n",
       "      <td>50.0</td>\n",
       "      <td>5</td>\n",
       "      <td>1</td>\n",
       "      <td>3.154069</td>\n",
       "      <td>st</td>\n",
       "    </tr>\n",
       "    <tr>\n",
       "      <th>2</th>\n",
       "      <td>0.77</td>\n",
       "      <td>5.0</td>\n",
       "      <td>4.3</td>\n",
       "      <td>1.00</td>\n",
       "      <td>Astapor</td>\n",
       "      <td>2014-01-07</td>\n",
       "      <td>iPhone</td>\n",
       "      <td>2014-01-06</td>\n",
       "      <td>0.0</td>\n",
       "      <td>3</td>\n",
       "      <td>False</td>\n",
       "      <td>100.0</td>\n",
       "      <td>1</td>\n",
       "      <td>1</td>\n",
       "      <td>0.032855</td>\n",
       "      <td>st</td>\n",
       "    </tr>\n",
       "    <tr>\n",
       "      <th>3</th>\n",
       "      <td>2.36</td>\n",
       "      <td>4.9</td>\n",
       "      <td>4.6</td>\n",
       "      <td>1.14</td>\n",
       "      <td>King's Landing</td>\n",
       "      <td>2014-06-29</td>\n",
       "      <td>iPhone</td>\n",
       "      <td>2014-01-10</td>\n",
       "      <td>20.0</td>\n",
       "      <td>9</td>\n",
       "      <td>True</td>\n",
       "      <td>80.0</td>\n",
       "      <td>6</td>\n",
       "      <td>1</td>\n",
       "      <td>5.585330</td>\n",
       "      <td>lt</td>\n",
       "    </tr>\n",
       "    <tr>\n",
       "      <th>4</th>\n",
       "      <td>3.13</td>\n",
       "      <td>4.9</td>\n",
       "      <td>4.4</td>\n",
       "      <td>1.19</td>\n",
       "      <td>Winterfell</td>\n",
       "      <td>2014-03-15</td>\n",
       "      <td>Android</td>\n",
       "      <td>2014-01-27</td>\n",
       "      <td>11.8</td>\n",
       "      <td>14</td>\n",
       "      <td>False</td>\n",
       "      <td>82.4</td>\n",
       "      <td>3</td>\n",
       "      <td>1</td>\n",
       "      <td>1.544180</td>\n",
       "      <td>st</td>\n",
       "    </tr>\n",
       "  </tbody>\n",
       "</table>\n",
       "</div>"
      ],
      "text/plain": [
       "   avg_dist  avg_rating_by_driver  avg_rating_of_driver  avg_surge  \\\n",
       "0      3.67                   5.0                   4.7       1.10   \n",
       "1      8.26                   5.0                   5.0       1.00   \n",
       "2      0.77                   5.0                   4.3       1.00   \n",
       "3      2.36                   4.9                   4.6       1.14   \n",
       "4      3.13                   4.9                   4.4       1.19   \n",
       "\n",
       "             city last_trip_date    phone signup_date  surge_pct  \\\n",
       "0  King's Landing     2014-06-17   iPhone  2014-01-25       15.4   \n",
       "1         Astapor     2014-05-05  Android  2014-01-29        0.0   \n",
       "2         Astapor     2014-01-07   iPhone  2014-01-06        0.0   \n",
       "3  King's Landing     2014-06-29   iPhone  2014-01-10       20.0   \n",
       "4      Winterfell     2014-03-15  Android  2014-01-27       11.8   \n",
       "\n",
       "   trips_in_first_30_days  ultimate_black_user  weekday_pct  month_last_trip  \\\n",
       "0                       4                 True         46.2                6   \n",
       "1                       0                False         50.0                5   \n",
       "2                       3                False        100.0                1   \n",
       "3                       9                 True         80.0                6   \n",
       "4                      14                False         82.4                3   \n",
       "\n",
       "   month_signup  delta_time_last_trip_months long_term_status  \n",
       "0             1                     4.698248               lt  \n",
       "1             1                     3.154069               st  \n",
       "2             1                     0.032855               st  \n",
       "3             1                     5.585330               lt  \n",
       "4             1                     1.544180               st  "
      ]
     },
     "execution_count": 3,
     "metadata": {},
     "output_type": "execute_result"
    }
   ],
   "source": [
    "# load csv file into Pandas dataframe table format\n",
    "df = pd.read_csv('Ultimate_Users_2014.csv')\n",
    "\n",
    "df.head()"
   ]
  },
  {
   "cell_type": "code",
   "execution_count": 4,
   "metadata": {},
   "outputs": [],
   "source": [
    "#Convert date as strings into datetime objects\n",
    "# & overwrite orignial columns\n",
    "\n",
    "df['last_trip_date'] = pd.to_datetime(df['last_trip_date'])\n",
    "df['signup_date'] = pd.to_datetime(df['signup_date'])"
   ]
  },
  {
   "cell_type": "code",
   "execution_count": 5,
   "metadata": {},
   "outputs": [
    {
     "data": {
      "text/plain": [
       "avg_dist                              float64\n",
       "avg_rating_by_driver                  float64\n",
       "avg_rating_of_driver                  float64\n",
       "avg_surge                             float64\n",
       "city                                   object\n",
       "last_trip_date                 datetime64[ns]\n",
       "phone                                  object\n",
       "signup_date                    datetime64[ns]\n",
       "surge_pct                             float64\n",
       "trips_in_first_30_days                  int64\n",
       "ultimate_black_user                      bool\n",
       "weekday_pct                           float64\n",
       "month_last_trip                         int64\n",
       "month_signup                            int64\n",
       "delta_time_last_trip_months           float64\n",
       "long_term_status                       object\n",
       "dtype: object"
      ]
     },
     "execution_count": 5,
     "metadata": {},
     "output_type": "execute_result"
    }
   ],
   "source": [
    "df.dtypes"
   ]
  },
  {
   "cell_type": "code",
   "execution_count": 6,
   "metadata": {},
   "outputs": [],
   "source": [
    "df['month_last_trip'] = pd.DatetimeIndex(df['last_trip_date']).month"
   ]
  },
  {
   "cell_type": "code",
   "execution_count": 7,
   "metadata": {},
   "outputs": [
    {
     "data": {
      "text/plain": [
       "6    18256\n",
       "1    10147\n",
       "5     7585\n",
       "4     4588\n",
       "3     4568\n",
       "2     4308\n",
       "7      548\n",
       "Name: month_last_trip, dtype: int64"
      ]
     },
     "execution_count": 7,
     "metadata": {},
     "output_type": "execute_result"
    }
   ],
   "source": [
    "df.month_last_trip.value_counts()"
   ]
  },
  {
   "cell_type": "code",
   "execution_count": 8,
   "metadata": {},
   "outputs": [
    {
     "data": {
      "text/plain": [
       "1    50000\n",
       "Name: month_signup, dtype: int64"
      ]
     },
     "execution_count": 8,
     "metadata": {},
     "output_type": "execute_result"
    }
   ],
   "source": [
    "df['month_signup'] = pd.DatetimeIndex(df['signup_date']).month\n",
    "\n",
    "df.month_signup.value_counts()"
   ]
  },
  {
   "cell_type": "code",
   "execution_count": 9,
   "metadata": {},
   "outputs": [],
   "source": [
    "df['delta_time_last_trip_months'] = (df['last_trip_date'] - df['signup_date'])/np.timedelta64(1,'M')"
   ]
  },
  {
   "cell_type": "code",
   "execution_count": null,
   "metadata": {},
   "outputs": [],
   "source": []
  },
  {
   "cell_type": "code",
   "execution_count": 10,
   "metadata": {},
   "outputs": [],
   "source": [
    "#df[['avg_dist','trips_in_first_30_days','dist_first_30']].head(15)"
   ]
  },
  {
   "cell_type": "markdown",
   "metadata": {},
   "source": [
    "## Looks like an error with the data: average distance for first 30 days should be 0 if number of trips in first 30 days is also 0"
   ]
  },
  {
   "cell_type": "code",
   "execution_count": 11,
   "metadata": {},
   "outputs": [],
   "source": [
    "num_boo_boos = 0\n",
    "\n",
    "for ind in df.index: \n",
    "    if (df['avg_dist'][ind] > 0) & (df['trips_in_first_30_days'][ind]== 0):\n",
    "        num_boo_boos +=1\n",
    "        #print('Distance : '+ str(df['avg_dist'][ind]))\n",
    "        #print('num_of_trips : '+ str(df['trips_in_first_30_days'][ind]))\n",
    "        #print\n",
    " \n"
   ]
  },
  {
   "cell_type": "code",
   "execution_count": 12,
   "metadata": {},
   "outputs": [
    {
     "name": "stdout",
     "output_type": "stream",
     "text": [
      "15334\n"
     ]
    }
   ],
   "source": [
    "print(num_boo_boos)"
   ]
  },
  {
   "cell_type": "code",
   "execution_count": 13,
   "metadata": {},
   "outputs": [
    {
     "data": {
      "text/plain": [
       "count    50000.000000\n",
       "mean         2.278200\n",
       "std          3.792684\n",
       "min          0.000000\n",
       "25%          0.000000\n",
       "50%          1.000000\n",
       "75%          3.000000\n",
       "max        125.000000\n",
       "Name: trips_in_first_30_days, dtype: float64"
      ]
     },
     "execution_count": 13,
     "metadata": {},
     "output_type": "execute_result"
    }
   ],
   "source": [
    "df.trips_in_first_30_days.describe()"
   ]
  },
  {
   "cell_type": "code",
   "execution_count": 14,
   "metadata": {},
   "outputs": [],
   "source": [
    "# useful link: https://towardsdatascience.com/apply-and-lambda-usage-in-pandas-b13a1ea037f7\n",
    "# function imputes num of trips in first 30 days with the mean if avg distance traveled\n",
    "# in first 30 days is NOT zero!\n",
    "def fix_trips_first30days(avg_dist,trips_in_first_30_days): \n",
    "    if (avg_dist > 0) & (trips_in_first_30_days == 0):\n",
    "        return 2.28\n",
    "    else:\n",
    "        return trips_in_first_30_days\n",
    "        \n",
    "    "
   ]
  },
  {
   "cell_type": "code",
   "execution_count": 15,
   "metadata": {},
   "outputs": [],
   "source": [
    "# apply custom function\n",
    "df['Trips_in_first_30'] = df.apply(lambda x: fix_trips_first30days(x['avg_dist'],x['trips_in_first_30_days']),axis=1)"
   ]
  },
  {
   "cell_type": "code",
   "execution_count": 16,
   "metadata": {},
   "outputs": [],
   "source": [
    "num_boo_boos2 = 0\n",
    "\n",
    "for ind in df.index: \n",
    "    if (df['avg_dist'][ind] > 0) & (df['trips_in_first_30_days'][ind]== 0):\n",
    "        num_boo_boos +=1\n",
    "        #print('Distance : '+ str(df['avg_dist'][ind]))\n",
    "        #print('num_of_trips : '+ str(df['trips_in_first_30_days'][ind]))\n",
    "        #print"
   ]
  },
  {
   "cell_type": "code",
   "execution_count": 17,
   "metadata": {},
   "outputs": [
    {
     "name": "stdout",
     "output_type": "stream",
     "text": [
      "0\n"
     ]
    }
   ],
   "source": [
    "print(num_boo_boos2)"
   ]
  },
  {
   "cell_type": "code",
   "execution_count": 18,
   "metadata": {},
   "outputs": [
    {
     "data": {
      "text/html": [
       "<div>\n",
       "<style scoped>\n",
       "    .dataframe tbody tr th:only-of-type {\n",
       "        vertical-align: middle;\n",
       "    }\n",
       "\n",
       "    .dataframe tbody tr th {\n",
       "        vertical-align: top;\n",
       "    }\n",
       "\n",
       "    .dataframe thead th {\n",
       "        text-align: right;\n",
       "    }\n",
       "</style>\n",
       "<table border=\"1\" class=\"dataframe\">\n",
       "  <thead>\n",
       "    <tr style=\"text-align: right;\">\n",
       "      <th></th>\n",
       "      <th>avg_dist</th>\n",
       "      <th>trips_in_first_30_days</th>\n",
       "      <th>Trips_in_first_30</th>\n",
       "    </tr>\n",
       "  </thead>\n",
       "  <tbody>\n",
       "    <tr>\n",
       "      <th>0</th>\n",
       "      <td>3.67</td>\n",
       "      <td>4</td>\n",
       "      <td>4.00</td>\n",
       "    </tr>\n",
       "    <tr>\n",
       "      <th>1</th>\n",
       "      <td>8.26</td>\n",
       "      <td>0</td>\n",
       "      <td>2.28</td>\n",
       "    </tr>\n",
       "    <tr>\n",
       "      <th>2</th>\n",
       "      <td>0.77</td>\n",
       "      <td>3</td>\n",
       "      <td>3.00</td>\n",
       "    </tr>\n",
       "    <tr>\n",
       "      <th>3</th>\n",
       "      <td>2.36</td>\n",
       "      <td>9</td>\n",
       "      <td>9.00</td>\n",
       "    </tr>\n",
       "    <tr>\n",
       "      <th>4</th>\n",
       "      <td>3.13</td>\n",
       "      <td>14</td>\n",
       "      <td>14.00</td>\n",
       "    </tr>\n",
       "    <tr>\n",
       "      <th>5</th>\n",
       "      <td>10.56</td>\n",
       "      <td>2</td>\n",
       "      <td>2.00</td>\n",
       "    </tr>\n",
       "    <tr>\n",
       "      <th>6</th>\n",
       "      <td>3.95</td>\n",
       "      <td>1</td>\n",
       "      <td>1.00</td>\n",
       "    </tr>\n",
       "    <tr>\n",
       "      <th>7</th>\n",
       "      <td>2.04</td>\n",
       "      <td>2</td>\n",
       "      <td>2.00</td>\n",
       "    </tr>\n",
       "    <tr>\n",
       "      <th>8</th>\n",
       "      <td>4.36</td>\n",
       "      <td>2</td>\n",
       "      <td>2.00</td>\n",
       "    </tr>\n",
       "    <tr>\n",
       "      <th>9</th>\n",
       "      <td>2.37</td>\n",
       "      <td>1</td>\n",
       "      <td>1.00</td>\n",
       "    </tr>\n",
       "    <tr>\n",
       "      <th>10</th>\n",
       "      <td>4.28</td>\n",
       "      <td>1</td>\n",
       "      <td>1.00</td>\n",
       "    </tr>\n",
       "    <tr>\n",
       "      <th>11</th>\n",
       "      <td>3.81</td>\n",
       "      <td>3</td>\n",
       "      <td>3.00</td>\n",
       "    </tr>\n",
       "    <tr>\n",
       "      <th>12</th>\n",
       "      <td>20.29</td>\n",
       "      <td>1</td>\n",
       "      <td>1.00</td>\n",
       "    </tr>\n",
       "    <tr>\n",
       "      <th>13</th>\n",
       "      <td>3.04</td>\n",
       "      <td>0</td>\n",
       "      <td>2.28</td>\n",
       "    </tr>\n",
       "    <tr>\n",
       "      <th>14</th>\n",
       "      <td>26.01</td>\n",
       "      <td>1</td>\n",
       "      <td>1.00</td>\n",
       "    </tr>\n",
       "  </tbody>\n",
       "</table>\n",
       "</div>"
      ],
      "text/plain": [
       "    avg_dist  trips_in_first_30_days  Trips_in_first_30\n",
       "0       3.67                       4               4.00\n",
       "1       8.26                       0               2.28\n",
       "2       0.77                       3               3.00\n",
       "3       2.36                       9               9.00\n",
       "4       3.13                      14              14.00\n",
       "5      10.56                       2               2.00\n",
       "6       3.95                       1               1.00\n",
       "7       2.04                       2               2.00\n",
       "8       4.36                       2               2.00\n",
       "9       2.37                       1               1.00\n",
       "10      4.28                       1               1.00\n",
       "11      3.81                       3               3.00\n",
       "12     20.29                       1               1.00\n",
       "13      3.04                       0               2.28\n",
       "14     26.01                       1               1.00"
      ]
     },
     "execution_count": 18,
     "metadata": {},
     "output_type": "execute_result"
    }
   ],
   "source": [
    "df[['avg_dist','trips_in_first_30_days','Trips_in_first_30']].head(15)"
   ]
  },
  {
   "cell_type": "code",
   "execution_count": 19,
   "metadata": {},
   "outputs": [],
   "source": [
    "# Engineered feature: distance traveled by user in first 30 days\n",
    "df['dist_first_30'] = df.avg_dist * df.Trips_in_first_30"
   ]
  },
  {
   "cell_type": "code",
   "execution_count": 20,
   "metadata": {},
   "outputs": [
    {
     "data": {
      "text/html": [
       "<div>\n",
       "<style scoped>\n",
       "    .dataframe tbody tr th:only-of-type {\n",
       "        vertical-align: middle;\n",
       "    }\n",
       "\n",
       "    .dataframe tbody tr th {\n",
       "        vertical-align: top;\n",
       "    }\n",
       "\n",
       "    .dataframe thead th {\n",
       "        text-align: right;\n",
       "    }\n",
       "</style>\n",
       "<table border=\"1\" class=\"dataframe\">\n",
       "  <thead>\n",
       "    <tr style=\"text-align: right;\">\n",
       "      <th></th>\n",
       "      <th>avg_dist</th>\n",
       "      <th>trips_in_first_30_days</th>\n",
       "      <th>dist_first_30</th>\n",
       "      <th>Trips_in_first_30</th>\n",
       "    </tr>\n",
       "  </thead>\n",
       "  <tbody>\n",
       "    <tr>\n",
       "      <th>0</th>\n",
       "      <td>3.67</td>\n",
       "      <td>4</td>\n",
       "      <td>14.6800</td>\n",
       "      <td>4.00</td>\n",
       "    </tr>\n",
       "    <tr>\n",
       "      <th>1</th>\n",
       "      <td>8.26</td>\n",
       "      <td>0</td>\n",
       "      <td>18.8328</td>\n",
       "      <td>2.28</td>\n",
       "    </tr>\n",
       "    <tr>\n",
       "      <th>2</th>\n",
       "      <td>0.77</td>\n",
       "      <td>3</td>\n",
       "      <td>2.3100</td>\n",
       "      <td>3.00</td>\n",
       "    </tr>\n",
       "    <tr>\n",
       "      <th>3</th>\n",
       "      <td>2.36</td>\n",
       "      <td>9</td>\n",
       "      <td>21.2400</td>\n",
       "      <td>9.00</td>\n",
       "    </tr>\n",
       "    <tr>\n",
       "      <th>4</th>\n",
       "      <td>3.13</td>\n",
       "      <td>14</td>\n",
       "      <td>43.8200</td>\n",
       "      <td>14.00</td>\n",
       "    </tr>\n",
       "    <tr>\n",
       "      <th>5</th>\n",
       "      <td>10.56</td>\n",
       "      <td>2</td>\n",
       "      <td>21.1200</td>\n",
       "      <td>2.00</td>\n",
       "    </tr>\n",
       "    <tr>\n",
       "      <th>6</th>\n",
       "      <td>3.95</td>\n",
       "      <td>1</td>\n",
       "      <td>3.9500</td>\n",
       "      <td>1.00</td>\n",
       "    </tr>\n",
       "    <tr>\n",
       "      <th>7</th>\n",
       "      <td>2.04</td>\n",
       "      <td>2</td>\n",
       "      <td>4.0800</td>\n",
       "      <td>2.00</td>\n",
       "    </tr>\n",
       "    <tr>\n",
       "      <th>8</th>\n",
       "      <td>4.36</td>\n",
       "      <td>2</td>\n",
       "      <td>8.7200</td>\n",
       "      <td>2.00</td>\n",
       "    </tr>\n",
       "    <tr>\n",
       "      <th>9</th>\n",
       "      <td>2.37</td>\n",
       "      <td>1</td>\n",
       "      <td>2.3700</td>\n",
       "      <td>1.00</td>\n",
       "    </tr>\n",
       "    <tr>\n",
       "      <th>10</th>\n",
       "      <td>4.28</td>\n",
       "      <td>1</td>\n",
       "      <td>4.2800</td>\n",
       "      <td>1.00</td>\n",
       "    </tr>\n",
       "    <tr>\n",
       "      <th>11</th>\n",
       "      <td>3.81</td>\n",
       "      <td>3</td>\n",
       "      <td>11.4300</td>\n",
       "      <td>3.00</td>\n",
       "    </tr>\n",
       "    <tr>\n",
       "      <th>12</th>\n",
       "      <td>20.29</td>\n",
       "      <td>1</td>\n",
       "      <td>20.2900</td>\n",
       "      <td>1.00</td>\n",
       "    </tr>\n",
       "    <tr>\n",
       "      <th>13</th>\n",
       "      <td>3.04</td>\n",
       "      <td>0</td>\n",
       "      <td>6.9312</td>\n",
       "      <td>2.28</td>\n",
       "    </tr>\n",
       "    <tr>\n",
       "      <th>14</th>\n",
       "      <td>26.01</td>\n",
       "      <td>1</td>\n",
       "      <td>26.0100</td>\n",
       "      <td>1.00</td>\n",
       "    </tr>\n",
       "  </tbody>\n",
       "</table>\n",
       "</div>"
      ],
      "text/plain": [
       "    avg_dist  trips_in_first_30_days  dist_first_30  Trips_in_first_30\n",
       "0       3.67                       4        14.6800               4.00\n",
       "1       8.26                       0        18.8328               2.28\n",
       "2       0.77                       3         2.3100               3.00\n",
       "3       2.36                       9        21.2400               9.00\n",
       "4       3.13                      14        43.8200              14.00\n",
       "5      10.56                       2        21.1200               2.00\n",
       "6       3.95                       1         3.9500               1.00\n",
       "7       2.04                       2         4.0800               2.00\n",
       "8       4.36                       2         8.7200               2.00\n",
       "9       2.37                       1         2.3700               1.00\n",
       "10      4.28                       1         4.2800               1.00\n",
       "11      3.81                       3        11.4300               3.00\n",
       "12     20.29                       1        20.2900               1.00\n",
       "13      3.04                       0         6.9312               2.28\n",
       "14     26.01                       1        26.0100               1.00"
      ]
     },
     "execution_count": 20,
     "metadata": {},
     "output_type": "execute_result"
    }
   ],
   "source": [
    "df[['avg_dist','trips_in_first_30_days','dist_first_30','Trips_in_first_30']].head(15)"
   ]
  },
  {
   "cell_type": "code",
   "execution_count": 21,
   "metadata": {},
   "outputs": [
    {
     "data": {
      "text/plain": [
       "(50000, 18)"
      ]
     },
     "execution_count": 21,
     "metadata": {},
     "output_type": "execute_result"
    }
   ],
   "source": [
    "df.shape"
   ]
  },
  {
   "cell_type": "code",
   "execution_count": 22,
   "metadata": {},
   "outputs": [],
   "source": [
    "#def long_term_or_not(delta_time):\n",
    "    #if delta_time >=6:\n",
    "        #return 'lt'\n",
    "        #return 1\n",
    "    #else:\n",
    "        #return  0\n",
    "        #return 'st'"
   ]
  },
  {
   "cell_type": "code",
   "execution_count": 23,
   "metadata": {},
   "outputs": [],
   "source": [
    "# New function to create a category class\n",
    "# if the user is still using the service in June or July they are long term ,'lt'\n",
    "def long_term_or_not2(month):\n",
    "    if month >=6:\n",
    "        #return 'lt'\n",
    "        return 1 # 1 for long term user\n",
    "    else:\n",
    "        return  0\n",
    "        #return 'st'"
   ]
  },
  {
   "cell_type": "code",
   "execution_count": 24,
   "metadata": {},
   "outputs": [],
   "source": [
    "# New function to create a category class\n",
    "# if the user used Ultimate within first 30 days from signging up\n",
    "def retained_or_not(trips):\n",
    "    if trips > 0:\n",
    "        return 1\n",
    "    else:\n",
    "        return 0\n",
    "       "
   ]
  },
  {
   "cell_type": "code",
   "execution_count": 25,
   "metadata": {},
   "outputs": [],
   "source": [
    "#df['long_term_status'] = df['delta_time_last_trip_months'].apply(long_term_or_not)\n",
    "df['long_term_status'] = df['month_last_trip'].apply(long_term_or_not2)"
   ]
  },
  {
   "cell_type": "code",
   "execution_count": 26,
   "metadata": {},
   "outputs": [],
   "source": [
    "#df['long_term_status'] = df['delta_time_last_trip_months'].apply(long_term_or_not)\n",
    "df['retain_status'] = df['trips_in_first_30_days'].apply(retained_or_not)"
   ]
  },
  {
   "cell_type": "code",
   "execution_count": 27,
   "metadata": {},
   "outputs": [
    {
     "data": {
      "text/plain": [
       "Index([u'avg_dist', u'avg_rating_by_driver', u'avg_rating_of_driver',\n",
       "       u'avg_surge', u'city', u'last_trip_date', u'phone', u'signup_date',\n",
       "       u'surge_pct', u'trips_in_first_30_days', u'ultimate_black_user',\n",
       "       u'weekday_pct', u'month_last_trip', u'month_signup',\n",
       "       u'delta_time_last_trip_months', u'long_term_status',\n",
       "       u'Trips_in_first_30', u'dist_first_30', u'retain_status'],\n",
       "      dtype='object')"
      ]
     },
     "execution_count": 27,
     "metadata": {},
     "output_type": "execute_result"
    }
   ],
   "source": [
    "df.columns"
   ]
  },
  {
   "cell_type": "code",
   "execution_count": 28,
   "metadata": {},
   "outputs": [
    {
     "data": {
      "text/plain": [
       "0    31196\n",
       "1    18804\n",
       "Name: long_term_status, dtype: int64"
      ]
     },
     "execution_count": 28,
     "metadata": {},
     "output_type": "execute_result"
    }
   ],
   "source": [
    "df.long_term_status.value_counts()"
   ]
  },
  {
   "cell_type": "code",
   "execution_count": 29,
   "metadata": {},
   "outputs": [],
   "source": [
    "#df.delta_time_last_trip_months.value_counts()"
   ]
  },
  {
   "cell_type": "code",
   "execution_count": 30,
   "metadata": {},
   "outputs": [
    {
     "data": {
      "text/plain": [
       "6    18256\n",
       "1    10147\n",
       "5     7585\n",
       "4     4588\n",
       "3     4568\n",
       "2     4308\n",
       "7      548\n",
       "Name: month_last_trip, dtype: int64"
      ]
     },
     "execution_count": 30,
     "metadata": {},
     "output_type": "execute_result"
    }
   ],
   "source": [
    "df.month_last_trip.value_counts()"
   ]
  },
  {
   "cell_type": "code",
   "execution_count": 31,
   "metadata": {},
   "outputs": [
    {
     "data": {
      "text/plain": [
       "1    34610\n",
       "0    15390\n",
       "Name: retain_status, dtype: int64"
      ]
     },
     "execution_count": 31,
     "metadata": {},
     "output_type": "execute_result"
    }
   ],
   "source": [
    "df.retain_status.value_counts()"
   ]
  },
  {
   "cell_type": "markdown",
   "metadata": {},
   "source": [
    "## ~69% of Users Are \"Retained\", used Ultimate within 30 days of signing up."
   ]
  },
  {
   "cell_type": "code",
   "execution_count": 32,
   "metadata": {},
   "outputs": [
    {
     "data": {
      "text/plain": [
       "avg_dist                              float64\n",
       "avg_rating_by_driver                  float64\n",
       "avg_rating_of_driver                  float64\n",
       "avg_surge                             float64\n",
       "city                                   object\n",
       "last_trip_date                 datetime64[ns]\n",
       "phone                                  object\n",
       "signup_date                    datetime64[ns]\n",
       "surge_pct                             float64\n",
       "trips_in_first_30_days                  int64\n",
       "ultimate_black_user                      bool\n",
       "weekday_pct                           float64\n",
       "month_last_trip                         int64\n",
       "month_signup                            int64\n",
       "delta_time_last_trip_months           float64\n",
       "long_term_status                        int64\n",
       "Trips_in_first_30                     float64\n",
       "dist_first_30                         float64\n",
       "retain_status                           int64\n",
       "dtype: object"
      ]
     },
     "execution_count": 32,
     "metadata": {},
     "output_type": "execute_result"
    }
   ],
   "source": [
    "df.dtypes"
   ]
  },
  {
   "cell_type": "code",
   "execution_count": 33,
   "metadata": {},
   "outputs": [
    {
     "data": {
      "text/plain": [
       "Index([u'avg_dist', u'avg_rating_by_driver', u'avg_rating_of_driver',\n",
       "       u'avg_surge', u'city', u'last_trip_date', u'phone', u'signup_date',\n",
       "       u'surge_pct', u'trips_in_first_30_days', u'ultimate_black_user',\n",
       "       u'weekday_pct', u'month_last_trip', u'month_signup',\n",
       "       u'delta_time_last_trip_months', u'long_term_status',\n",
       "       u'Trips_in_first_30', u'dist_first_30', u'retain_status'],\n",
       "      dtype='object')"
      ]
     },
     "execution_count": 33,
     "metadata": {},
     "output_type": "execute_result"
    }
   ],
   "source": [
    "df.columns"
   ]
  },
  {
   "cell_type": "code",
   "execution_count": 34,
   "metadata": {},
   "outputs": [
    {
     "data": {
      "text/html": [
       "<div>\n",
       "<style scoped>\n",
       "    .dataframe tbody tr th:only-of-type {\n",
       "        vertical-align: middle;\n",
       "    }\n",
       "\n",
       "    .dataframe tbody tr th {\n",
       "        vertical-align: top;\n",
       "    }\n",
       "\n",
       "    .dataframe thead th {\n",
       "        text-align: right;\n",
       "    }\n",
       "</style>\n",
       "<table border=\"1\" class=\"dataframe\">\n",
       "  <thead>\n",
       "    <tr style=\"text-align: right;\">\n",
       "      <th></th>\n",
       "      <th>avg_dist</th>\n",
       "      <th>avg_rating_by_driver</th>\n",
       "      <th>avg_rating_of_driver</th>\n",
       "      <th>avg_surge</th>\n",
       "      <th>city</th>\n",
       "      <th>last_trip_date</th>\n",
       "      <th>phone</th>\n",
       "      <th>signup_date</th>\n",
       "      <th>surge_pct</th>\n",
       "      <th>trips_in_first_30_days</th>\n",
       "      <th>ultimate_black_user</th>\n",
       "      <th>weekday_pct</th>\n",
       "      <th>month_last_trip</th>\n",
       "      <th>month_signup</th>\n",
       "      <th>delta_time_last_trip_months</th>\n",
       "      <th>long_term_status</th>\n",
       "      <th>Trips_in_first_30</th>\n",
       "      <th>dist_first_30</th>\n",
       "      <th>retain_status</th>\n",
       "    </tr>\n",
       "  </thead>\n",
       "  <tbody>\n",
       "    <tr>\n",
       "      <th>49995</th>\n",
       "      <td>5.63</td>\n",
       "      <td>4.2</td>\n",
       "      <td>5.0</td>\n",
       "      <td>1.0</td>\n",
       "      <td>King's Landing</td>\n",
       "      <td>2014-06-05</td>\n",
       "      <td>iPhone</td>\n",
       "      <td>2014-01-25</td>\n",
       "      <td>0.0</td>\n",
       "      <td>0</td>\n",
       "      <td>False</td>\n",
       "      <td>100.0</td>\n",
       "      <td>6</td>\n",
       "      <td>1</td>\n",
       "      <td>4.303990</td>\n",
       "      <td>1</td>\n",
       "      <td>2.28</td>\n",
       "      <td>12.8364</td>\n",
       "      <td>0</td>\n",
       "    </tr>\n",
       "    <tr>\n",
       "      <th>49996</th>\n",
       "      <td>0.00</td>\n",
       "      <td>4.0</td>\n",
       "      <td>NaN</td>\n",
       "      <td>1.0</td>\n",
       "      <td>Astapor</td>\n",
       "      <td>2014-01-25</td>\n",
       "      <td>iPhone</td>\n",
       "      <td>2014-01-24</td>\n",
       "      <td>0.0</td>\n",
       "      <td>1</td>\n",
       "      <td>False</td>\n",
       "      <td>0.0</td>\n",
       "      <td>1</td>\n",
       "      <td>1</td>\n",
       "      <td>0.032855</td>\n",
       "      <td>0</td>\n",
       "      <td>1.00</td>\n",
       "      <td>0.0000</td>\n",
       "      <td>1</td>\n",
       "    </tr>\n",
       "    <tr>\n",
       "      <th>49997</th>\n",
       "      <td>3.86</td>\n",
       "      <td>5.0</td>\n",
       "      <td>5.0</td>\n",
       "      <td>1.0</td>\n",
       "      <td>Winterfell</td>\n",
       "      <td>2014-05-22</td>\n",
       "      <td>Android</td>\n",
       "      <td>2014-01-31</td>\n",
       "      <td>0.0</td>\n",
       "      <td>0</td>\n",
       "      <td>True</td>\n",
       "      <td>100.0</td>\n",
       "      <td>5</td>\n",
       "      <td>1</td>\n",
       "      <td>3.646892</td>\n",
       "      <td>0</td>\n",
       "      <td>2.28</td>\n",
       "      <td>8.8008</td>\n",
       "      <td>0</td>\n",
       "    </tr>\n",
       "    <tr>\n",
       "      <th>49998</th>\n",
       "      <td>4.58</td>\n",
       "      <td>3.5</td>\n",
       "      <td>3.0</td>\n",
       "      <td>1.0</td>\n",
       "      <td>Astapor</td>\n",
       "      <td>2014-01-15</td>\n",
       "      <td>iPhone</td>\n",
       "      <td>2014-01-14</td>\n",
       "      <td>0.0</td>\n",
       "      <td>2</td>\n",
       "      <td>False</td>\n",
       "      <td>100.0</td>\n",
       "      <td>1</td>\n",
       "      <td>1</td>\n",
       "      <td>0.032855</td>\n",
       "      <td>0</td>\n",
       "      <td>2.00</td>\n",
       "      <td>9.1600</td>\n",
       "      <td>1</td>\n",
       "    </tr>\n",
       "    <tr>\n",
       "      <th>49999</th>\n",
       "      <td>3.49</td>\n",
       "      <td>5.0</td>\n",
       "      <td>NaN</td>\n",
       "      <td>1.0</td>\n",
       "      <td>Astapor</td>\n",
       "      <td>2014-04-20</td>\n",
       "      <td>Android</td>\n",
       "      <td>2014-01-18</td>\n",
       "      <td>0.0</td>\n",
       "      <td>0</td>\n",
       "      <td>False</td>\n",
       "      <td>0.0</td>\n",
       "      <td>4</td>\n",
       "      <td>1</td>\n",
       "      <td>3.022649</td>\n",
       "      <td>0</td>\n",
       "      <td>2.28</td>\n",
       "      <td>7.9572</td>\n",
       "      <td>0</td>\n",
       "    </tr>\n",
       "  </tbody>\n",
       "</table>\n",
       "</div>"
      ],
      "text/plain": [
       "       avg_dist  avg_rating_by_driver  avg_rating_of_driver  avg_surge  \\\n",
       "49995      5.63                   4.2                   5.0        1.0   \n",
       "49996      0.00                   4.0                   NaN        1.0   \n",
       "49997      3.86                   5.0                   5.0        1.0   \n",
       "49998      4.58                   3.5                   3.0        1.0   \n",
       "49999      3.49                   5.0                   NaN        1.0   \n",
       "\n",
       "                 city last_trip_date    phone signup_date  surge_pct  \\\n",
       "49995  King's Landing     2014-06-05   iPhone  2014-01-25        0.0   \n",
       "49996         Astapor     2014-01-25   iPhone  2014-01-24        0.0   \n",
       "49997      Winterfell     2014-05-22  Android  2014-01-31        0.0   \n",
       "49998         Astapor     2014-01-15   iPhone  2014-01-14        0.0   \n",
       "49999         Astapor     2014-04-20  Android  2014-01-18        0.0   \n",
       "\n",
       "       trips_in_first_30_days  ultimate_black_user  weekday_pct  \\\n",
       "49995                       0                False        100.0   \n",
       "49996                       1                False          0.0   \n",
       "49997                       0                 True        100.0   \n",
       "49998                       2                False        100.0   \n",
       "49999                       0                False          0.0   \n",
       "\n",
       "       month_last_trip  month_signup  delta_time_last_trip_months  \\\n",
       "49995                6             1                     4.303990   \n",
       "49996                1             1                     0.032855   \n",
       "49997                5             1                     3.646892   \n",
       "49998                1             1                     0.032855   \n",
       "49999                4             1                     3.022649   \n",
       "\n",
       "       long_term_status  Trips_in_first_30  dist_first_30  retain_status  \n",
       "49995                 1               2.28        12.8364              0  \n",
       "49996                 0               1.00         0.0000              1  \n",
       "49997                 0               2.28         8.8008              0  \n",
       "49998                 0               2.00         9.1600              1  \n",
       "49999                 0               2.28         7.9572              0  "
      ]
     },
     "execution_count": 34,
     "metadata": {},
     "output_type": "execute_result"
    }
   ],
   "source": [
    "df.tail()"
   ]
  },
  {
   "cell_type": "code",
   "execution_count": 35,
   "metadata": {},
   "outputs": [
    {
     "data": {
      "text/plain": [
       "Winterfell        0.46672\n",
       "Astapor           0.33068\n",
       "King's Landing    0.20260\n",
       "Name: city, dtype: float64"
      ]
     },
     "execution_count": 35,
     "metadata": {},
     "output_type": "execute_result"
    }
   ],
   "source": [
    "df.city.value_counts(normalize=True)"
   ]
  },
  {
   "cell_type": "code",
   "execution_count": 36,
   "metadata": {},
   "outputs": [
    {
     "data": {
      "text/plain": [
       "avg_dist                          0\n",
       "avg_rating_by_driver            201\n",
       "avg_rating_of_driver           8122\n",
       "avg_surge                         0\n",
       "city                              0\n",
       "last_trip_date                    0\n",
       "phone                           396\n",
       "signup_date                       0\n",
       "surge_pct                         0\n",
       "trips_in_first_30_days            0\n",
       "ultimate_black_user               0\n",
       "weekday_pct                       0\n",
       "month_last_trip                   0\n",
       "month_signup                      0\n",
       "delta_time_last_trip_months       0\n",
       "long_term_status                  0\n",
       "Trips_in_first_30                 0\n",
       "dist_first_30                     0\n",
       "retain_status                     0\n",
       "dtype: int64"
      ]
     },
     "execution_count": 36,
     "metadata": {},
     "output_type": "execute_result"
    }
   ],
   "source": [
    "df.isnull().sum()"
   ]
  },
  {
   "cell_type": "code",
   "execution_count": 37,
   "metadata": {},
   "outputs": [],
   "source": [
    "#fill NA with mean() of each column in boston dataset\n",
    "predictors = ['avg_dist','avg_rating_by_driver','avg_rating_of_driver',\n",
    "              'avg_surge','surge_pct','Trips_in_first_30','weekday_pct']\n",
    "\n",
    "for pred in predictors:\n",
    "    df[pred] = df[pred].fillna(df[pred].mean(),axis=0)"
   ]
  },
  {
   "cell_type": "code",
   "execution_count": 38,
   "metadata": {},
   "outputs": [],
   "source": [
    "# replace nulls in phone column with the string 'Unknown'\n",
    "df[\"phone\"].fillna(\"Unknown\", inplace = True) "
   ]
  },
  {
   "cell_type": "code",
   "execution_count": 39,
   "metadata": {},
   "outputs": [
    {
     "data": {
      "text/plain": [
       "avg_dist                       0\n",
       "avg_rating_by_driver           0\n",
       "avg_rating_of_driver           0\n",
       "avg_surge                      0\n",
       "city                           0\n",
       "last_trip_date                 0\n",
       "phone                          0\n",
       "signup_date                    0\n",
       "surge_pct                      0\n",
       "trips_in_first_30_days         0\n",
       "ultimate_black_user            0\n",
       "weekday_pct                    0\n",
       "month_last_trip                0\n",
       "month_signup                   0\n",
       "delta_time_last_trip_months    0\n",
       "long_term_status               0\n",
       "Trips_in_first_30              0\n",
       "dist_first_30                  0\n",
       "retain_status                  0\n",
       "dtype: int64"
      ]
     },
     "execution_count": 39,
     "metadata": {},
     "output_type": "execute_result"
    }
   ],
   "source": [
    "df.isnull().sum()"
   ]
  },
  {
   "cell_type": "code",
   "execution_count": 40,
   "metadata": {},
   "outputs": [
    {
     "data": {
      "text/plain": [
       "iPhone     34582\n",
       "Android    15022\n",
       "Unknown      396\n",
       "Name: phone, dtype: int64"
      ]
     },
     "execution_count": 40,
     "metadata": {},
     "output_type": "execute_result"
    }
   ],
   "source": [
    "df.phone.value_counts()"
   ]
  },
  {
   "cell_type": "code",
   "execution_count": 41,
   "metadata": {},
   "outputs": [
    {
     "name": "stdout",
     "output_type": "stream",
     "text": [
      "2.2782\n"
     ]
    }
   ],
   "source": [
    "print(np.mean(df.trips_in_first_30_days))"
   ]
  },
  {
   "cell_type": "code",
   "execution_count": 42,
   "metadata": {},
   "outputs": [
    {
     "name": "stdout",
     "output_type": "stream",
     "text": [
      "3.04860797963\n"
     ]
    }
   ],
   "source": [
    "print(np.mean(df.delta_time_last_trip_months))"
   ]
  },
  {
   "cell_type": "code",
   "execution_count": 43,
   "metadata": {},
   "outputs": [
    {
     "name": "stdout",
     "output_type": "stream",
     "text": [
      "count    50000.000000\n",
      "mean         3.048608\n",
      "std          2.041268\n",
      "min          0.000000\n",
      "25%          0.887082\n",
      "50%          3.614037\n",
      "75%          4.928233\n",
      "max          5.946734\n",
      "Name: delta_time_last_trip_months, dtype: float64\n"
     ]
    }
   ],
   "source": [
    "print(df.delta_time_last_trip_months.describe())"
   ]
  },
  {
   "cell_type": "code",
   "execution_count": 44,
   "metadata": {},
   "outputs": [
    {
     "data": {
      "text/plain": [
       "<matplotlib.axes._subplots.AxesSubplot at 0x1a21fb8c90>"
      ]
     },
     "execution_count": 44,
     "metadata": {},
     "output_type": "execute_result"
    },
    {
     "data": {
      "image/png": "[encoded data removed]",
      "text/plain": [
       "<Figure size 648x432 with 1 Axes>"
      ]
     },
     "metadata": {
      "needs_background": "light"
     },
     "output_type": "display_data"
    }
   ],
   "source": [
    "#sns.distplot(df.review_scores_rating)\n",
    "fig, ax = plt.subplots(figsize=(9, 6))\n",
    "for axis in ['top','bottom','left','right']:\n",
    "    ax.spines[axis].set_linewidth(2.5)\n",
    "sns.distplot(df.Trips_in_first_30)"
   ]
  },
  {
   "cell_type": "code",
   "execution_count": 45,
   "metadata": {},
   "outputs": [],
   "source": [
    "# use only numerical features as initial baseline model, then add categorical features to later models\n",
    "predictors = ['avg_dist','avg_rating_by_driver','avg_rating_of_driver',\n",
    "              'avg_surge','surge_pct', 'Trips_in_first_30','weekday_pct','dist_first_30']\n",
    "\n",
    "X = df[predictors]\n",
    "y  = df.long_term_status"
   ]
  },
  {
   "cell_type": "code",
   "execution_count": 46,
   "metadata": {},
   "outputs": [
    {
     "name": "stdout",
     "output_type": "stream",
     "text": [
      "(40000, 8)\n",
      "\n",
      "(10000, 8)\n"
     ]
    }
   ],
   "source": [
    "X_train, X_test, y_train, y_test = train_test_split(X,y, test_size=0.2)\n",
    "\n",
    "print(X_train.shape)\n",
    "print\n",
    "print(X_test.shape)"
   ]
  },
  {
   "cell_type": "code",
   "execution_count": 47,
   "metadata": {},
   "outputs": [
    {
     "data": {
      "text/plain": [
       "0    6227\n",
       "1    3773\n",
       "Name: long_term_status, dtype: int64"
      ]
     },
     "execution_count": 47,
     "metadata": {},
     "output_type": "execute_result"
    }
   ],
   "source": [
    "y_test.value_counts()"
   ]
  },
  {
   "cell_type": "markdown",
   "metadata": {},
   "source": [
    "## XGBoost Classifier Optimization"
   ]
  },
  {
   "cell_type": "code",
   "execution_count": 48,
   "metadata": {},
   "outputs": [
    {
     "name": "stdout",
     "output_type": "stream",
     "text": [
      "XGBoost Classifier Score: 0.74\n",
      "\n"
     ]
    }
   ],
   "source": [
    "# XGBoost Classifier\n",
    "\n",
    "xgbc = XGBClassifier()\n",
    "xgbc.fit(X_train, y_train)\n",
    "print(\"XGBoost Classifier Score: {:.2f}\".format(xgbc.score(X_test, y_test)))\n",
    "print"
   ]
  },
  {
   "cell_type": "code",
   "execution_count": 49,
   "metadata": {},
   "outputs": [
    {
     "name": "stdout",
     "output_type": "stream",
     "text": [
      "Confusion Matrix for XGBoost Model\n",
      "\n",
      "[[5313  914]\n",
      " [1672 2101]]\n"
     ]
    }
   ],
   "source": [
    "# Generate Confusion Matrix \n",
    "actual = y_test\n",
    "predictions = xgbc.predict(X_test)\n",
    "print('Confusion Matrix for XGBoost Model')\n",
    "print\n",
    "cm = confusion_matrix(actual,predictions)\n",
    "print(cm)"
   ]
  },
  {
   "cell_type": "code",
   "execution_count": 50,
   "metadata": {},
   "outputs": [
    {
     "data": {
      "image/png": "[encoded data removed]",
      "text/plain": [
       "<Figure size 648x648 with 1 Axes>"
      ]
     },
     "metadata": {
      "needs_background": "light"
     },
     "output_type": "display_data"
    }
   ],
   "source": [
    "# Confusion matrix for XGBoost Classifier Model\n",
    "plt.figure(figsize=(9,9))\n",
    "sns.heatmap(cm, annot=True, fmt=\".0f\", linewidths=.5, square = True, cmap = 'Blues_r',cbar= None);\n",
    "plt.ylabel('Actual label',fontsize=16,fontweight='bold');\n",
    "plt.xlabel('Predicted label',fontsize=16,fontweight='bold');\n",
    "plt.title('XGBoost Classifier Model',fontsize=16,fontweight='bold');"
   ]
  },
  {
   "cell_type": "code",
   "execution_count": 51,
   "metadata": {},
   "outputs": [
    {
     "name": "stdout",
     "output_type": "stream",
     "text": [
      "XGBoost Classifier Score: 0.74\n",
      "\n",
      "XGBoost Classifier Score: 0.74\n",
      "\n",
      "XGBoost Classifier Score: 0.75\n",
      "\n",
      "XGBoost Classifier Score: 0.75\n",
      "\n",
      "XGBoost Classifier Score: 0.75\n",
      "\n",
      "XGBoost Classifier Score: 0.75\n",
      "\n",
      "XGBoost Classifier Score: 0.75\n",
      "\n",
      "XGBoost Classifier Score: 0.75\n",
      "\n",
      "XGBoost Classifier Score: 0.75\n",
      "\n",
      "XGBoost Classifier Score: 0.75\n",
      "\n"
     ]
    }
   ],
   "source": [
    "# optimize number of estimators\n",
    "num_estimators = [100,200,300,400,500,600,700,800,900,1000]\n",
    "\n",
    "for num_est in num_estimators:\n",
    "    \n",
    "    xgbc_opt = XGBClassifier(n_estimators= num_est)\n",
    "    xgbc_opt.fit(X_train, y_train)\n",
    "    print(\"XGBoost Classifier Score: {:.2f}\".format(xgbc_opt.score(X_test, y_test)))\n",
    "    print"
   ]
  },
  {
   "cell_type": "markdown",
   "metadata": {},
   "source": [
    "## You need to convert the categorical features into numeric attributes. "
   ]
  },
  {
   "cell_type": "code",
   "execution_count": 52,
   "metadata": {},
   "outputs": [
    {
     "data": {
      "text/plain": [
       "2    0.46672\n",
       "0    0.33068\n",
       "1    0.20260\n",
       "Name: city_code, dtype: float64"
      ]
     },
     "execution_count": 52,
     "metadata": {},
     "output_type": "execute_result"
    }
   ],
   "source": [
    "# 0- Astapor, 1-King's Landing, 2-Winterfell\n",
    "cle = LabelEncoder()\n",
    "df['city_code'] = cle.fit_transform(df['city'])\n",
    "\n",
    "df.city_code.value_counts(normalize=True)"
   ]
  },
  {
   "cell_type": "code",
   "execution_count": 53,
   "metadata": {},
   "outputs": [
    {
     "data": {
      "text/plain": [
       "Winterfell        0.46672\n",
       "Astapor           0.33068\n",
       "King's Landing    0.20260\n",
       "Name: city, dtype: float64"
      ]
     },
     "execution_count": 53,
     "metadata": {},
     "output_type": "execute_result"
    }
   ],
   "source": [
    "df.city.value_counts(normalize=True)"
   ]
  },
  {
   "cell_type": "code",
   "execution_count": 54,
   "metadata": {},
   "outputs": [
    {
     "data": {
      "text/plain": [
       "2    0.69164\n",
       "0    0.30044\n",
       "1    0.00792\n",
       "Name: phone_code, dtype: float64"
      ]
     },
     "execution_count": 54,
     "metadata": {},
     "output_type": "execute_result"
    }
   ],
   "source": [
    "# 0- Android, 1-Unknown, 2-iPhone\n",
    "cle_2 = LabelEncoder()\n",
    "df['phone_code'] = cle_2.fit_transform(df['phone'])\n",
    "\n",
    "df.phone_code.value_counts(normalize=True)"
   ]
  },
  {
   "cell_type": "code",
   "execution_count": 55,
   "metadata": {},
   "outputs": [
    {
     "data": {
      "text/plain": [
       "iPhone     0.69164\n",
       "Android    0.30044\n",
       "Unknown    0.00792\n",
       "Name: phone, dtype: float64"
      ]
     },
     "execution_count": 55,
     "metadata": {},
     "output_type": "execute_result"
    }
   ],
   "source": [
    "df.phone.value_counts(normalize=True)"
   ]
  },
  {
   "cell_type": "code",
   "execution_count": null,
   "metadata": {},
   "outputs": [],
   "source": []
  },
  {
   "cell_type": "markdown",
   "metadata": {},
   "source": [
    "## Enhanced Data Features for Prediction"
   ]
  },
  {
   "cell_type": "code",
   "execution_count": 56,
   "metadata": {},
   "outputs": [
    {
     "name": "stdout",
     "output_type": "stream",
     "text": [
      "(40000, 13)\n",
      "\n",
      "(10000, 13)\n"
     ]
    }
   ],
   "source": [
    "X = df.drop(['long_term_status','city','phone','last_trip_date','signup_date','month_last_trip',\\\n",
    "              'delta_time_last_trip_months','trips_in_first_30_days'],axis=1)\n",
    "\n",
    "# target variable\n",
    "y  = df.long_term_status\n",
    "\n",
    "X_train, X_test, y_train, y_test = train_test_split(X,y, test_size=0.2)\n",
    "\n",
    "print(X_train.shape)\n",
    "print\n",
    "print(X_test.shape)"
   ]
  },
  {
   "cell_type": "code",
   "execution_count": 57,
   "metadata": {},
   "outputs": [
    {
     "data": {
      "text/plain": [
       "Index([u'avg_dist', u'avg_rating_by_driver', u'avg_rating_of_driver',\n",
       "       u'avg_surge', u'surge_pct', u'ultimate_black_user', u'weekday_pct',\n",
       "       u'month_signup', u'Trips_in_first_30', u'dist_first_30',\n",
       "       u'retain_status', u'city_code', u'phone_code'],\n",
       "      dtype='object')"
      ]
     },
     "execution_count": 57,
     "metadata": {},
     "output_type": "execute_result"
    }
   ],
   "source": [
    "X.columns"
   ]
  },
  {
   "cell_type": "code",
   "execution_count": 58,
   "metadata": {},
   "outputs": [
    {
     "name": "stdout",
     "output_type": "stream",
     "text": [
      "Decision Tree classifier Score: 0.75\n",
      "\n"
     ]
    }
   ],
   "source": [
    "# Decision Tree Classifier\n",
    "dtc = DecisionTreeClassifier(max_depth=5)\n",
    "dtc.fit(X_train, y_train)\n",
    "# evaluate accuracy of our model on test data\n",
    "print(\"Decision Tree classifier Score: {:.2f}\".format(dtc.score(X_test, y_test)))\n",
    "print"
   ]
  },
  {
   "cell_type": "code",
   "execution_count": 59,
   "metadata": {},
   "outputs": [
    {
     "name": "stdout",
     "output_type": "stream",
     "text": [
      "Confusion Matrix for Decision Tree Classifier Model\n",
      "\n",
      "[[5229 1021]\n",
      " [1482 2268]]\n"
     ]
    }
   ],
   "source": [
    "# Generate Confusion Matrix for XGBoost Model with enhanced features\n",
    "actual = y_test\n",
    "predictions = dtc.predict(X_test)\n",
    "print('Confusion Matrix for Decision Tree Classifier Model')\n",
    "print\n",
    "cm_dtc = confusion_matrix(actual,predictions)\n",
    "print(cm_dtc)"
   ]
  },
  {
   "cell_type": "code",
   "execution_count": 60,
   "metadata": {},
   "outputs": [
    {
     "name": "stderr",
     "output_type": "stream",
     "text": [
      "/Users/scottlew/anaconda2/lib/python2.7/site-packages/sklearn/ensemble/forest.py:246: FutureWarning: The default value of n_estimators will change from 10 in version 0.20 to 100 in 0.22.\n",
      "  \"10 in version 0.20 to 100 in 0.22.\", FutureWarning)\n"
     ]
    },
    {
     "name": "stdout",
     "output_type": "stream",
     "text": [
      "Random Forest classifier Score: 0.75\n",
      "\n"
     ]
    }
   ],
   "source": [
    "# Random Forest Classifier\n",
    "#rf = RandomForestClassifier(max_depth=15, n_estimators=100)\n",
    "rf = RandomForestClassifier()\n",
    "rf.fit(X_train,y_train)\n",
    "# evaluate accuracy of our model on test data\n",
    "print(\"Random Forest classifier Score: {:.2f}\".format(rf.score(X_test, y_test)))\n",
    "print"
   ]
  },
  {
   "cell_type": "code",
   "execution_count": 61,
   "metadata": {},
   "outputs": [
    {
     "name": "stdout",
     "output_type": "stream",
     "text": [
      "Confusion Matrix for Random Forest Model\n",
      "\n",
      "[[5220 1030]\n",
      " [1513 2237]]\n"
     ]
    }
   ],
   "source": [
    "# Generate Confusion Matrix for Random Forest Model with enhanced features\n",
    "actual = y_test\n",
    "predictions = rf.predict(X_test)\n",
    "print('Confusion Matrix for Random Forest Model')\n",
    "print\n",
    "cm_rf = confusion_matrix(actual,predictions)\n",
    "print(cm_rf)"
   ]
  },
  {
   "cell_type": "code",
   "execution_count": 62,
   "metadata": {},
   "outputs": [
    {
     "name": "stdout",
     "output_type": "stream",
     "text": [
      "              precision    recall  f1-score   support\n",
      "\n",
      "           0       0.84      0.78      0.80      6733\n",
      "           1       0.60      0.68      0.64      3267\n",
      "\n",
      "   micro avg       0.75      0.75      0.75     10000\n",
      "   macro avg       0.72      0.73      0.72     10000\n",
      "weighted avg       0.76      0.75      0.75     10000\n",
      "\n"
     ]
    }
   ],
   "source": [
    "rf_predictions = rf.predict(X_test)\n",
    "print(classification_report(rf_predictions, y_test))"
   ]
  },
  {
   "cell_type": "code",
   "execution_count": 63,
   "metadata": {},
   "outputs": [
    {
     "name": "stdout",
     "output_type": "stream",
     "text": [
      "XGBoost Classifier Score: 0.78\n",
      "\n",
      "CPU times: user 4.11 s, sys: 36.3 ms, total: 4.15 s\n",
      "Wall time: 4.41 s\n"
     ]
    }
   ],
   "source": [
    "%%time\n",
    "xgbc_2 = XGBClassifier()\n",
    "xgbc_2.fit(X_train, y_train)\n",
    "print(\"XGBoost Classifier Score: {:.2f}\".format(xgbc_2.score(X_test, y_test)))\n",
    "print"
   ]
  },
  {
   "cell_type": "code",
   "execution_count": 64,
   "metadata": {},
   "outputs": [
    {
     "name": "stdout",
     "output_type": "stream",
     "text": [
      "{'reg_alpha': 0, 'n_jobs': 1, 'colsample_bytree': 1, 'silent': True, 'colsample_bylevel': 1, 'scale_pos_weight': 1, 'learning_rate': 0.1, 'missing': None, 'max_delta_step': 0, 'nthread': None, 'base_score': 0.5, 'n_estimators': 100, 'subsample': 1, 'reg_lambda': 1, 'random_state': 0, 'min_child_weight': 1, 'objective': 'binary:logistic', 'seed': None, 'max_depth': 3, 'gamma': 0, 'booster': 'gbtree'}\n"
     ]
    }
   ],
   "source": [
    "print(xgbc_2.get_params())"
   ]
  },
  {
   "cell_type": "code",
   "execution_count": 65,
   "metadata": {},
   "outputs": [
    {
     "name": "stdout",
     "output_type": "stream",
     "text": [
      "Confusion Matrix for XGBoost Model\n",
      "\n",
      "[[5351  899]\n",
      " [1253 2497]]\n"
     ]
    }
   ],
   "source": [
    "# Generate Confusion Matrix for XGBoost Model with enhanced features\n",
    "actual = y_test\n",
    "predictions = xgbc_2.predict(X_test)\n",
    "print('Confusion Matrix for XGBoost Model')\n",
    "print\n",
    "cm_xgb2 = confusion_matrix(actual,predictions)\n",
    "print(cm_xgb2)"
   ]
  },
  {
   "cell_type": "markdown",
   "metadata": {},
   "source": [
    "## Note using city as a feature XGBoost Classifier correctly identified 2418 of long term users. Adding phone type info improved f1 score for long term user. "
   ]
  },
  {
   "cell_type": "code",
   "execution_count": 66,
   "metadata": {},
   "outputs": [
    {
     "data": {
      "image/png": "[encoded data removed]",
      "text/plain": [
       "<Figure size 648x648 with 1 Axes>"
      ]
     },
     "metadata": {
      "needs_background": "light"
     },
     "output_type": "display_data"
    }
   ],
   "source": [
    "# Confusion matrix for XGBoost Classifier Model\n",
    "plt.figure(figsize=(9,9))\n",
    "sns.heatmap(cm_xgb2, annot=True, fmt=\".0f\", linewidths=.5, square = True, cmap = 'Blues_r',cbar= None);\n",
    "plt.ylabel('Actual label',fontsize=16,fontweight='bold');\n",
    "plt.xlabel('Predicted label',fontsize=16,fontweight='bold');\n",
    "plt.title('XGBoost Classifier Model',fontsize=16,fontweight='bold');"
   ]
  },
  {
   "cell_type": "code",
   "execution_count": 67,
   "metadata": {},
   "outputs": [
    {
     "data": {
      "image/png": "[encoded data removed]",
      "text/plain": [
       "<Figure size 864x648 with 1 Axes>"
      ]
     },
     "metadata": {
      "needs_background": "light"
     },
     "output_type": "display_data"
    }
   ],
   "source": [
    "n_features = X.shape[1]\n",
    "\n",
    "#plt.figure(figsize=(9,6))\n",
    "plt.figure(figsize=(12,9))\n",
    "plt.bar(range(n_features),xgbc_2.feature_importances_,align='center')\n",
    "#plt.yticks(xgbc_op2.feature_importances_,fontsize=15,fontweight='bold')\n",
    "plt.xticks(np.arange(n_features),X.columns,fontsize=15,fontweight='bold',rotation='vertical')\n",
    "plt.ylabel('Feature Importance',fontsize=16,fontweight='bold')\n",
    "plt.xlabel('Feature',fontsize=16,fontweight='bold')\n",
    "plt.gca().spines['top'].set_linewidth(3.5)\n",
    "plt.gca().spines['right'].set_linewidth(3.5)\n",
    "plt.gca().spines['bottom'].set_linewidth(3.5)\n",
    "plt.gca().spines['left'].set_linewidth(3.5)\n",
    "plt.tight_layout()\n",
    "#plt.savefig('Ultimate_XGBoost_Op_Feature_Importances.png')"
   ]
  },
  {
   "cell_type": "code",
   "execution_count": 68,
   "metadata": {},
   "outputs": [
    {
     "name": "stdout",
     "output_type": "stream",
     "text": [
      "              precision    recall  f1-score   support\n",
      "\n",
      "           0       0.86      0.81      0.83      6604\n",
      "           1       0.67      0.74      0.70      3396\n",
      "\n",
      "   micro avg       0.78      0.78      0.78     10000\n",
      "   macro avg       0.76      0.77      0.77     10000\n",
      "weighted avg       0.79      0.78      0.79     10000\n",
      "\n"
     ]
    }
   ],
   "source": [
    "xgbc_prediction_2 = xgbc_2.predict(X_test)\n",
    "print(classification_report(xgbc_prediction_2, y_test))"
   ]
  },
  {
   "cell_type": "code",
   "execution_count": 69,
   "metadata": {},
   "outputs": [],
   "source": [
    "# optimize number of estimators\n",
    "num_estimators = [100,200,300,400,500,600,700,800,900,1000]\n",
    "\n",
    "#for num_est in num_estimators:\n",
    "    \n",
    "    #xgbc_opt2 = XGBClassifier(n_estimators= num_est)\n",
    "    #xgbc_opt2.fit(X_train, y_train)\n",
    "    #print(num_est)\n",
    "    #print(\"XGBoost Classifier Score: {:.2f}\".format(xgbc_opt2.score(X_test, y_test)))\n",
    "    #print"
   ]
  },
  {
   "cell_type": "markdown",
   "metadata": {},
   "source": [
    "## Grid Search with XGBoost Classifier"
   ]
  },
  {
   "cell_type": "code",
   "execution_count": 70,
   "metadata": {},
   "outputs": [
    {
     "data": {
      "text/plain": [
       "(12500, 14)"
      ]
     },
     "execution_count": 70,
     "metadata": {},
     "output_type": "execute_result"
    }
   ],
   "source": [
    "# truncated dataframe using df.sample\n",
    "df_trunc = df.drop(['city','phone','last_trip_date','signup_date','month_last_trip',\\\n",
    "              'delta_time_last_trip_months','trips_in_first_30_days'],axis=1)\n",
    "\n",
    "df_trunc = df_trunc.sample(frac=0.25)\n",
    "\n",
    "df_trunc.shape"
   ]
  },
  {
   "cell_type": "code",
   "execution_count": 71,
   "metadata": {},
   "outputs": [
    {
     "data": {
      "text/html": [
       "<div>\n",
       "<style scoped>\n",
       "    .dataframe tbody tr th:only-of-type {\n",
       "        vertical-align: middle;\n",
       "    }\n",
       "\n",
       "    .dataframe tbody tr th {\n",
       "        vertical-align: top;\n",
       "    }\n",
       "\n",
       "    .dataframe thead th {\n",
       "        text-align: right;\n",
       "    }\n",
       "</style>\n",
       "<table border=\"1\" class=\"dataframe\">\n",
       "  <thead>\n",
       "    <tr style=\"text-align: right;\">\n",
       "      <th></th>\n",
       "      <th>avg_dist</th>\n",
       "      <th>avg_rating_by_driver</th>\n",
       "      <th>avg_rating_of_driver</th>\n",
       "      <th>avg_surge</th>\n",
       "      <th>surge_pct</th>\n",
       "      <th>ultimate_black_user</th>\n",
       "      <th>weekday_pct</th>\n",
       "      <th>month_signup</th>\n",
       "      <th>long_term_status</th>\n",
       "      <th>Trips_in_first_30</th>\n",
       "      <th>dist_first_30</th>\n",
       "      <th>retain_status</th>\n",
       "      <th>city_code</th>\n",
       "      <th>phone_code</th>\n",
       "    </tr>\n",
       "  </thead>\n",
       "  <tbody>\n",
       "    <tr>\n",
       "      <th>7693</th>\n",
       "      <td>1.72</td>\n",
       "      <td>5.0</td>\n",
       "      <td>4.601559</td>\n",
       "      <td>1.00</td>\n",
       "      <td>0.0</td>\n",
       "      <td>False</td>\n",
       "      <td>75.0</td>\n",
       "      <td>1</td>\n",
       "      <td>1</td>\n",
       "      <td>1.00</td>\n",
       "      <td>1.720</td>\n",
       "      <td>1</td>\n",
       "      <td>2</td>\n",
       "      <td>2</td>\n",
       "    </tr>\n",
       "    <tr>\n",
       "      <th>20593</th>\n",
       "      <td>4.97</td>\n",
       "      <td>5.0</td>\n",
       "      <td>4.601559</td>\n",
       "      <td>1.00</td>\n",
       "      <td>0.0</td>\n",
       "      <td>False</td>\n",
       "      <td>0.0</td>\n",
       "      <td>1</td>\n",
       "      <td>0</td>\n",
       "      <td>1.00</td>\n",
       "      <td>4.970</td>\n",
       "      <td>1</td>\n",
       "      <td>0</td>\n",
       "      <td>2</td>\n",
       "    </tr>\n",
       "    <tr>\n",
       "      <th>27770</th>\n",
       "      <td>5.48</td>\n",
       "      <td>4.8</td>\n",
       "      <td>4.500000</td>\n",
       "      <td>1.03</td>\n",
       "      <td>7.4</td>\n",
       "      <td>False</td>\n",
       "      <td>55.6</td>\n",
       "      <td>1</td>\n",
       "      <td>0</td>\n",
       "      <td>8.00</td>\n",
       "      <td>43.840</td>\n",
       "      <td>1</td>\n",
       "      <td>2</td>\n",
       "      <td>2</td>\n",
       "    </tr>\n",
       "    <tr>\n",
       "      <th>22257</th>\n",
       "      <td>0.65</td>\n",
       "      <td>5.0</td>\n",
       "      <td>4.000000</td>\n",
       "      <td>1.00</td>\n",
       "      <td>0.0</td>\n",
       "      <td>True</td>\n",
       "      <td>33.3</td>\n",
       "      <td>1</td>\n",
       "      <td>0</td>\n",
       "      <td>2.28</td>\n",
       "      <td>1.482</td>\n",
       "      <td>0</td>\n",
       "      <td>0</td>\n",
       "      <td>2</td>\n",
       "    </tr>\n",
       "    <tr>\n",
       "      <th>36723</th>\n",
       "      <td>4.36</td>\n",
       "      <td>5.0</td>\n",
       "      <td>5.000000</td>\n",
       "      <td>1.00</td>\n",
       "      <td>0.0</td>\n",
       "      <td>False</td>\n",
       "      <td>80.0</td>\n",
       "      <td>1</td>\n",
       "      <td>0</td>\n",
       "      <td>2.00</td>\n",
       "      <td>8.720</td>\n",
       "      <td>1</td>\n",
       "      <td>2</td>\n",
       "      <td>0</td>\n",
       "    </tr>\n",
       "  </tbody>\n",
       "</table>\n",
       "</div>"
      ],
      "text/plain": [
       "       avg_dist  avg_rating_by_driver  avg_rating_of_driver  avg_surge  \\\n",
       "7693       1.72                   5.0              4.601559       1.00   \n",
       "20593      4.97                   5.0              4.601559       1.00   \n",
       "27770      5.48                   4.8              4.500000       1.03   \n",
       "22257      0.65                   5.0              4.000000       1.00   \n",
       "36723      4.36                   5.0              5.000000       1.00   \n",
       "\n",
       "       surge_pct  ultimate_black_user  weekday_pct  month_signup  \\\n",
       "7693         0.0                False         75.0             1   \n",
       "20593        0.0                False          0.0             1   \n",
       "27770        7.4                False         55.6             1   \n",
       "22257        0.0                 True         33.3             1   \n",
       "36723        0.0                False         80.0             1   \n",
       "\n",
       "       long_term_status  Trips_in_first_30  dist_first_30  retain_status  \\\n",
       "7693                  1               1.00          1.720              1   \n",
       "20593                 0               1.00          4.970              1   \n",
       "27770                 0               8.00         43.840              1   \n",
       "22257                 0               2.28          1.482              0   \n",
       "36723                 0               2.00          8.720              1   \n",
       "\n",
       "       city_code  phone_code  \n",
       "7693           2           2  \n",
       "20593          0           2  \n",
       "27770          2           2  \n",
       "22257          0           2  \n",
       "36723          2           0  "
      ]
     },
     "execution_count": 71,
     "metadata": {},
     "output_type": "execute_result"
    }
   ],
   "source": [
    "df_trunc.head()"
   ]
  },
  {
   "cell_type": "code",
   "execution_count": 72,
   "metadata": {},
   "outputs": [
    {
     "data": {
      "text/plain": [
       "0    7746\n",
       "1    4754\n",
       "Name: long_term_status, dtype: int64"
      ]
     },
     "execution_count": 72,
     "metadata": {},
     "output_type": "execute_result"
    }
   ],
   "source": [
    "df_trunc.long_term_status.value_counts()"
   ]
  },
  {
   "cell_type": "code",
   "execution_count": 73,
   "metadata": {},
   "outputs": [
    {
     "data": {
      "text/plain": [
       "0    0.61968\n",
       "1    0.38032\n",
       "Name: long_term_status, dtype: float64"
      ]
     },
     "execution_count": 73,
     "metadata": {},
     "output_type": "execute_result"
    }
   ],
   "source": [
    "df_trunc.long_term_status.value_counts(normalize=True)"
   ]
  },
  {
   "cell_type": "code",
   "execution_count": 74,
   "metadata": {},
   "outputs": [
    {
     "name": "stdout",
     "output_type": "stream",
     "text": [
      "(10000, 13)\n",
      "\n",
      "(2500, 13)\n"
     ]
    }
   ],
   "source": [
    "# create new train & test data sets using truncated data\n",
    "X = df_trunc.drop(['long_term_status'],axis=1)\n",
    "\n",
    "# target variable\n",
    "y  = df_trunc.long_term_status\n",
    "\n",
    "X_train, X_test, y_train, y_test = train_test_split(X,y, test_size=0.2)\n",
    "\n",
    "print(X_train.shape)\n",
    "print\n",
    "print(X_test.shape)"
   ]
  },
  {
   "cell_type": "code",
   "execution_count": 75,
   "metadata": {},
   "outputs": [
    {
     "data": {
      "text/plain": [
       "0    0.6288\n",
       "1    0.3712\n",
       "Name: long_term_status, dtype: float64"
      ]
     },
     "execution_count": 75,
     "metadata": {},
     "output_type": "execute_result"
    }
   ],
   "source": [
    "y_test.value_counts(normalize=True)"
   ]
  },
  {
   "cell_type": "code",
   "execution_count": 76,
   "metadata": {},
   "outputs": [
    {
     "name": "stdout",
     "output_type": "stream",
     "text": [
      "Fitting 3 folds for each of 35 candidates, totalling 105 fits\n"
     ]
    },
    {
     "name": "stderr",
     "output_type": "stream",
     "text": [
      "[Parallel(n_jobs=-1)]: Using backend LokyBackend with 4 concurrent workers.\n",
      "[Parallel(n_jobs=-1)]: Done  33 tasks      | elapsed:   57.6s\n",
      "[Parallel(n_jobs=-1)]: Done 105 out of 105 | elapsed:  7.8min finished\n"
     ]
    },
    {
     "name": "stdout",
     "output_type": "stream",
     "text": [
      "{'n_estimators': 100, 'max_depth': 5}\n"
     ]
    }
   ],
   "source": [
    "# Create a parameter grid to search over\n",
    "param_grid = {\n",
    "              'max_depth': [3,5,10, 20, 30, 40, 50],\n",
    "              'n_estimators': [100,200, 400,500,600]}\n",
    "\n",
    "xgbc_op = XGBClassifier()\n",
    "\n",
    "# Instantiate the grid search model\n",
    "grid_search = GridSearchCV(estimator = xgbc_op, param_grid = param_grid, \n",
    "                          cv = 3, n_jobs = -1, verbose = 2)\n",
    "\n",
    "# Fit the grid search to the data\n",
    "grid_search.fit(X_train,y_train)\n",
    "\n",
    "print(grid_search.best_params_)"
   ]
  },
  {
   "cell_type": "code",
   "execution_count": 77,
   "metadata": {},
   "outputs": [],
   "source": [
    "# grid search results\n",
    "# {'max_depth': 5}\n",
    "#{'n_estimators': 400}"
   ]
  },
  {
   "cell_type": "code",
   "execution_count": 78,
   "metadata": {},
   "outputs": [
    {
     "name": "stdout",
     "output_type": "stream",
     "text": [
      "XGBoost Classifier Score: 0.78\n",
      "\n"
     ]
    }
   ],
   "source": [
    "xgbc_3 = XGBClassifier(max_depth= 5,n_estimators= 100)\n",
    "xgbc_3.fit(X_train, y_train)\n",
    "print(\"XGBoost Classifier Score: {:.2f}\".format(xgbc_3.score(X_test, y_test)))\n",
    "print"
   ]
  },
  {
   "cell_type": "code",
   "execution_count": 79,
   "metadata": {},
   "outputs": [
    {
     "name": "stdout",
     "output_type": "stream",
     "text": [
      "Confusion Matrix for XGBoost Model\n",
      "\n",
      "[[1346  226]\n",
      " [ 324  604]]\n"
     ]
    }
   ],
   "source": [
    "# Generate Confusion Matrix for XGBoost Model with enhanced features\n",
    "actual = y_test\n",
    "predictions = xgbc_3.predict(X_test)\n",
    "print('Confusion Matrix for XGBoost Model')\n",
    "print\n",
    "cm_xgb3 = confusion_matrix(actual,predictions)\n",
    "print(cm_xgb3)"
   ]
  },
  {
   "cell_type": "code",
   "execution_count": 80,
   "metadata": {},
   "outputs": [
    {
     "name": "stdout",
     "output_type": "stream",
     "text": [
      "              precision    recall  f1-score   support\n",
      "\n",
      "           0       0.86      0.81      0.83      1670\n",
      "           1       0.65      0.73      0.69       830\n",
      "\n",
      "   micro avg       0.78      0.78      0.78      2500\n",
      "   macro avg       0.75      0.77      0.76      2500\n",
      "weighted avg       0.79      0.78      0.78      2500\n",
      "\n"
     ]
    }
   ],
   "source": [
    "xgbc_prediction_3 = xgbc_3.predict(X_test)\n",
    "print(classification_report(xgbc_prediction_3, y_test))"
   ]
  },
  {
   "cell_type": "code",
   "execution_count": null,
   "metadata": {},
   "outputs": [],
   "source": []
  },
  {
   "cell_type": "markdown",
   "metadata": {},
   "source": [
    "## Randomized Search CV"
   ]
  },
  {
   "cell_type": "code",
   "execution_count": 81,
   "metadata": {},
   "outputs": [],
   "source": [
    "# https://github.com/krishnaik06/Hyperparameter-Optimization/blob/master/Hyperparameter%20Optimization%20For%20Xgboost.ipynb\n",
    "# See useful link above from Krish Naik\n",
    "# see youtube video on this link  https://www.youtube.com/watch?v=9HomdnM12o4"
   ]
  },
  {
   "cell_type": "code",
   "execution_count": 82,
   "metadata": {},
   "outputs": [],
   "source": [
    "params={\n",
    " \"learning_rate\"    : [0.05, 0.10, 0.15, 0.20, 0.25, 0.30 ] ,\n",
    " \"max_depth\"        : [ 3, 4, 5, 6, 8, 10, 12, 15],\n",
    " \"min_child_weight\" : [ 1, 3, 5, 7 ],\n",
    " \"gamma\"            : [ 0.0, 0.1, 0.2 , 0.3, 0.4 ],\n",
    " \"colsample_bytree\" : [ 0.3, 0.4, 0.5 , 0.7 ]\n",
    "    \n",
    "}"
   ]
  },
  {
   "cell_type": "code",
   "execution_count": 83,
   "metadata": {},
   "outputs": [],
   "source": [
    "classifier= XGBClassifier()\n",
    "\n",
    "random_search=RandomizedSearchCV(classifier,param_distributions=params,n_iter=5,scoring='roc_auc',n_jobs=-1,cv=3,verbose=3)"
   ]
  },
  {
   "cell_type": "code",
   "execution_count": 84,
   "metadata": {},
   "outputs": [
    {
     "name": "stdout",
     "output_type": "stream",
     "text": [
      "Fitting 3 folds for each of 5 candidates, totalling 15 fits\n"
     ]
    },
    {
     "name": "stderr",
     "output_type": "stream",
     "text": [
      "[Parallel(n_jobs=-1)]: Using backend LokyBackend with 4 concurrent workers.\n",
      "[Parallel(n_jobs=-1)]: Done  15 out of  15 | elapsed:    8.7s finished\n"
     ]
    },
    {
     "data": {
      "text/plain": [
       "RandomizedSearchCV(cv=3, error_score='raise-deprecating',\n",
       "          estimator=XGBClassifier(base_score=0.5, booster='gbtree', colsample_bylevel=1,\n",
       "       colsample_bytree=1, gamma=0, learning_rate=0.1, max_delta_step=0,\n",
       "       max_depth=3, min_child_weight=1, missing=None, n_estimators=100,\n",
       "       n_jobs=1, nthread=None, objective='binary:logistic', random_state=0,\n",
       "       reg_alpha=0, reg_lambda=1, scale_pos_weight=1, seed=None,\n",
       "       silent=True, subsample=1),\n",
       "          fit_params=None, iid='warn', n_iter=5, n_jobs=-1,\n",
       "          param_distributions={'gamma': [0.0, 0.1, 0.2, 0.3, 0.4], 'learning_rate': [0.05, 0.1, 0.15, 0.2, 0.25, 0.3], 'colsample_bytree': [0.3, 0.4, 0.5, 0.7], 'max_depth': [3, 4, 5, 6, 8, 10, 12, 15], 'min_child_weight': [1, 3, 5, 7]},\n",
       "          pre_dispatch='2*n_jobs', random_state=None, refit=True,\n",
       "          return_train_score='warn', scoring='roc_auc', verbose=3)"
      ]
     },
     "execution_count": 84,
     "metadata": {},
     "output_type": "execute_result"
    }
   ],
   "source": [
    "random_search.fit(X,y)"
   ]
  },
  {
   "cell_type": "code",
   "execution_count": 85,
   "metadata": {},
   "outputs": [
    {
     "data": {
      "text/plain": [
       "XGBClassifier(base_score=0.5, booster='gbtree', colsample_bylevel=1,\n",
       "       colsample_bytree=0.3, gamma=0.0, learning_rate=0.1,\n",
       "       max_delta_step=0, max_depth=5, min_child_weight=5, missing=None,\n",
       "       n_estimators=100, n_jobs=1, nthread=None,\n",
       "       objective='binary:logistic', random_state=0, reg_alpha=0,\n",
       "       reg_lambda=1, scale_pos_weight=1, seed=None, silent=True,\n",
       "       subsample=1)"
      ]
     },
     "execution_count": 85,
     "metadata": {},
     "output_type": "execute_result"
    }
   ],
   "source": [
    "random_search.best_estimator_"
   ]
  },
  {
   "cell_type": "code",
   "execution_count": 86,
   "metadata": {},
   "outputs": [
    {
     "data": {
      "text/plain": [
       "{'colsample_bytree': 0.3,\n",
       " 'gamma': 0.0,\n",
       " 'learning_rate': 0.1,\n",
       " 'max_depth': 5,\n",
       " 'min_child_weight': 5}"
      ]
     },
     "execution_count": 86,
     "metadata": {},
     "output_type": "execute_result"
    }
   ],
   "source": [
    "random_search.best_params_"
   ]
  },
  {
   "cell_type": "code",
   "execution_count": 87,
   "metadata": {},
   "outputs": [
    {
     "name": "stdout",
     "output_type": "stream",
     "text": [
      "(40000, 13)\n",
      "\n",
      "(10000, 13)\n"
     ]
    }
   ],
   "source": [
    "# use full data for training & test sets\n",
    "X = df.drop(['long_term_status','city','phone','last_trip_date','signup_date','month_last_trip',\\\n",
    "              'delta_time_last_trip_months','trips_in_first_30_days'],axis=1)\n",
    "\n",
    "# target variable\n",
    "y  = df.long_term_status\n",
    "\n",
    "X_train, X_test, y_train, y_test = train_test_split(X,y, test_size=0.2)\n",
    "\n",
    "print(X_train.shape)\n",
    "print\n",
    "print(X_test.shape)"
   ]
  },
  {
   "cell_type": "code",
   "execution_count": 88,
   "metadata": {},
   "outputs": [
    {
     "data": {
      "text/plain": [
       "0    6196\n",
       "1    3804\n",
       "Name: long_term_status, dtype: int64"
      ]
     },
     "execution_count": 88,
     "metadata": {},
     "output_type": "execute_result"
    }
   ],
   "source": [
    "y_test.value_counts()"
   ]
  },
  {
   "cell_type": "code",
   "execution_count": null,
   "metadata": {},
   "outputs": [],
   "source": []
  },
  {
   "cell_type": "code",
   "execution_count": 89,
   "metadata": {},
   "outputs": [
    {
     "data": {
      "text/plain": [
       "{'base_score': 0.5,\n",
       " 'booster': 'gbtree',\n",
       " 'colsample_bylevel': 1,\n",
       " 'colsample_bytree': 1,\n",
       " 'gamma': 0,\n",
       " 'learning_rate': 0.1,\n",
       " 'max_delta_step': 0,\n",
       " 'max_depth': 3,\n",
       " 'min_child_weight': 1,\n",
       " 'missing': None,\n",
       " 'n_estimators': 100,\n",
       " 'n_jobs': 1,\n",
       " 'nthread': None,\n",
       " 'objective': 'binary:logistic',\n",
       " 'random_state': 0,\n",
       " 'reg_alpha': 0,\n",
       " 'reg_lambda': 1,\n",
       " 'scale_pos_weight': 1,\n",
       " 'seed': None,\n",
       " 'silent': True,\n",
       " 'subsample': 1}"
      ]
     },
     "execution_count": 89,
     "metadata": {},
     "output_type": "execute_result"
    }
   ],
   "source": [
    "{'reg_alpha': 0, 'n_jobs': 1, 'colsample_bytree': 1, 'silent': True, 'colsample_bylevel': 1, \n",
    " 'scale_pos_weight': 1, 'learning_rate': 0.1, 'missing': None, 'max_delta_step': 0, 'nthread': None, \n",
    " 'base_score': 0.5, 'n_estimators': 100, 'subsample': 1, 'reg_lambda': 1, 'random_state': 0, 'min_child_weight': 1,\n",
    " 'objective': 'binary:logistic', 'seed': None, 'max_depth': 3, 'gamma': 0, 'booster': 'gbtree'}"
   ]
  },
  {
   "cell_type": "code",
   "execution_count": 90,
   "metadata": {},
   "outputs": [
    {
     "name": "stdout",
     "output_type": "stream",
     "text": [
      "XGBoost Classifier Score: 0.79\n",
      "\n"
     ]
    }
   ],
   "source": [
    "xgbc_op = XGBClassifier(base_score=0.5, booster='gbtree', colsample_bylevel=1,\n",
    "                        colsample_bytree=0.3, gamma=0.3, learning_rate=0.05,\n",
    "                        max_delta_step=0, max_depth=5, min_child_weight=1, missing=None,\n",
    "                        n_estimators=100, n_jobs=1, nthread=None,\n",
    "                        objective='binary:logistic', random_state=0, reg_alpha=0,\n",
    "                        reg_lambda=1, scale_pos_weight=1, seed=None, silent=True,\n",
    "                        subsample=1)\n",
    "\n",
    "\n",
    "xgbc_op.fit(X_train, y_train)\n",
    "print(\"XGBoost Classifier Score: {:.2f}\".format(xgbc_3.score(X_test, y_test)))\n",
    "print"
   ]
  },
  {
   "cell_type": "code",
   "execution_count": 91,
   "metadata": {},
   "outputs": [
    {
     "name": "stdout",
     "output_type": "stream",
     "text": [
      "Confusion Matrix for Random Search Optimized XGBoost Model\n",
      "\n",
      "[[5449  747]\n",
      " [1443 2361]]\n"
     ]
    }
   ],
   "source": [
    "# Generate Confusion Matrix for XGBoost Model with enhanced features\n",
    "actual = y_test\n",
    "predictions = xgbc_op.predict(X_test)\n",
    "print('Confusion Matrix for Random Search Optimized XGBoost Model')\n",
    "print\n",
    "cm_xgbc_op = confusion_matrix(actual,predictions)\n",
    "print(cm_xgbc_op)"
   ]
  },
  {
   "cell_type": "code",
   "execution_count": 92,
   "metadata": {},
   "outputs": [
    {
     "name": "stdout",
     "output_type": "stream",
     "text": [
      "XGBoost Classifier Score: 0.79\n",
      "\n"
     ]
    }
   ],
   "source": [
    "xgbc_op2 = XGBClassifier(base_score=0.5, booster='gbtree', colsample_bylevel=1,\n",
    "                        colsample_bytree=0.3, gamma=0.3, learning_rate=0.15,\n",
    "                        max_delta_step=0, max_depth=6, min_child_weight=3, missing=None,\n",
    "                        n_estimators= 100, n_jobs=1, nthread=None,\n",
    "                        objective='binary:logistic', random_state=0, reg_alpha=0,\n",
    "                        reg_lambda=1, scale_pos_weight=1, seed=None, silent=True,\n",
    "                        subsample=1)\n",
    "\n",
    "\n",
    "xgbc_op2.fit(X_train, y_train)\n",
    "print(\"XGBoost Classifier Score: {:.2f}\".format(xgbc_op2.score(X_test, y_test)))\n",
    "print"
   ]
  },
  {
   "cell_type": "code",
   "execution_count": 93,
   "metadata": {},
   "outputs": [
    {
     "name": "stdout",
     "output_type": "stream",
     "text": [
      "Confusion Matrix for Random Search Optimized XGBoost Model\n",
      "\n",
      "[[5379  817]\n",
      " [1269 2535]]\n"
     ]
    }
   ],
   "source": [
    "# Generate Confusion Matrix for XGBoost Model with enhanced features\n",
    "actual = y_test\n",
    "predictions_2 = xgbc_op2.predict(X_test)\n",
    "print('Confusion Matrix for Random Search Optimized XGBoost Model')\n",
    "print\n",
    "cm_xgbc_op2 = confusion_matrix(actual,predictions_2)\n",
    "print(cm_xgbc_op2)"
   ]
  },
  {
   "cell_type": "code",
   "execution_count": 94,
   "metadata": {},
   "outputs": [
    {
     "data": {
      "image/png": "[encoded data removed]",
      "text/plain": [
       "<Figure size 504x504 with 1 Axes>"
      ]
     },
     "metadata": {
      "needs_background": "light"
     },
     "output_type": "display_data"
    }
   ],
   "source": [
    "# Confusion matrix for XGBoost Classifier Model\n",
    "# useful link for formatting snsheatmap:\n",
    "# https://indianaiproduction.com/seaborn-heatmap/#:~:text=introduce%20new%20parameter.-,sns.,add%20text%20on%20each%20cell&text=The%20annot%20only%20help%20to,value%20%E2%80%9Cs%E2%80%9D%20to%20fmt.\n",
    "plt.figure(figsize=(7,7))\n",
    "annot_kws={'fontsize':15,'fontstyle':'italic'}\n",
    "sns.heatmap(cm_xgbc_op2, annot=True, fmt=\".0f\", linewidths=.5, square = True, cmap = 'Blues_r',cbar= None,annot_kws= annot_kws);\n",
    "\n",
    "plt.ylabel('Actual label',fontsize=16,fontweight='bold');\n",
    "plt.xlabel('Predicted label',fontsize=16,fontweight='bold');\n",
    "plt.title('XGBoost Classifier Model',fontsize=16,fontweight='bold');\n",
    "plt.savefig('Con_Matrix_Ultimate_XGBoost_Optimized.png')"
   ]
  },
  {
   "cell_type": "code",
   "execution_count": 95,
   "metadata": {},
   "outputs": [
    {
     "data": {
      "text/plain": [
       "0.767272260723821"
      ]
     },
     "execution_count": 95,
     "metadata": {},
     "output_type": "execute_result"
    }
   ],
   "source": [
    "from sklearn.metrics import roc_curve, auc\n",
    "\n",
    "roc_auc_score(y_test, predictions_2)"
   ]
  },
  {
   "cell_type": "code",
   "execution_count": 96,
   "metadata": {},
   "outputs": [
    {
     "data": {
      "image/png": "[encoded data removed]",
      "text/plain": [
       "<Figure size 864x648 with 1 Axes>"
      ]
     },
     "metadata": {
      "needs_background": "light"
     },
     "output_type": "display_data"
    }
   ],
   "source": [
    "n_features = X.shape[1]\n",
    "\n",
    "#plt.figure(figsize=(9,6))\n",
    "plt.figure(figsize=(12,9))\n",
    "plt.barh(range(n_features),xgbc_op2.feature_importances_, align='center')\n",
    "plt.yticks(np.arange(n_features),X.columns,fontsize=15,fontweight='bold')\n",
    "\n",
    "plt.xlabel('Feature Importance',fontsize=16,fontweight='bold')\n",
    "plt.ylabel('Feature',fontsize=16,fontweight='bold')\n",
    "plt.gca().spines['top'].set_linewidth(3.5)\n",
    "plt.gca().spines['right'].set_linewidth(3.5)\n",
    "plt.gca().spines['bottom'].set_linewidth(3.5)\n",
    "plt.gca().spines['left'].set_linewidth(3.5)\n",
    "plt.tight_layout()\n",
    "#plt.savefig('Ultimate_XGBoost_Op_Feature_Importances.png')"
   ]
  },
  {
   "cell_type": "code",
   "execution_count": 97,
   "metadata": {},
   "outputs": [
    {
     "data": {
      "image/png": "[encoded data removed]",
      "text/plain": [
       "<Figure size 864x648 with 1 Axes>"
      ]
     },
     "metadata": {
      "needs_background": "light"
     },
     "output_type": "display_data"
    }
   ],
   "source": [
    "n_features = X.shape[1]\n",
    "\n",
    "#plt.figure(figsize=(9,6))\n",
    "plt.figure(figsize=(12,9))\n",
    "plt.bar(range(n_features),xgbc_op2.feature_importances_,align='center')\n",
    "#plt.yticks(xgbc_op2.feature_importances_,fontsize=15,fontweight='bold')\n",
    "plt.xticks(np.arange(n_features),X.columns,fontsize=15,fontweight='bold',rotation='vertical')\n",
    "plt.ylabel('Feature Importance',fontsize=16,fontweight='bold')\n",
    "plt.xlabel('Feature',fontsize=16,fontweight='bold')\n",
    "plt.gca().spines['top'].set_linewidth(3.5)\n",
    "plt.gca().spines['right'].set_linewidth(3.5)\n",
    "plt.gca().spines['bottom'].set_linewidth(3.5)\n",
    "plt.gca().spines['left'].set_linewidth(3.5)\n",
    "plt.tight_layout()\n",
    "#plt.savefig('Ultimate_XGBoost_Op_Feature_Importances.png')"
   ]
  },
  {
   "cell_type": "code",
   "execution_count": 98,
   "metadata": {},
   "outputs": [
    {
     "name": "stdout",
     "output_type": "stream",
     "text": [
      "              precision    recall  f1-score   support\n",
      "\n",
      "           0       0.87      0.81      0.84      6648\n",
      "           1       0.67      0.76      0.71      3352\n",
      "\n",
      "   micro avg       0.79      0.79      0.79     10000\n",
      "   macro avg       0.77      0.78      0.77     10000\n",
      "weighted avg       0.80      0.79      0.79     10000\n",
      "\n"
     ]
    }
   ],
   "source": [
    "xgbc_prediction_opt = xgbc_op2.predict(X_test)\n",
    "print(classification_report(xgbc_prediction_opt, y_test))"
   ]
  },
  {
   "cell_type": "markdown",
   "metadata": {},
   "source": [
    "## gamma of 0.3 seems to give best result in predicting long term status, 1, of Ultimate users"
   ]
  },
  {
   "cell_type": "code",
   "execution_count": 99,
   "metadata": {},
   "outputs": [
    {
     "name": "stdout",
     "output_type": "stream",
     "text": [
      "XGBoost Classifier Score: 0.79\n",
      "\n"
     ]
    }
   ],
   "source": [
    "xgbc_un_op = XGBClassifier()\n",
    "\n",
    "\n",
    "xgbc_un_op.fit(X_train, y_train)\n",
    "print(\"XGBoost Classifier Score: {:.2f}\".format(xgbc_un_op.score(X_test, y_test)))\n",
    "print"
   ]
  },
  {
   "cell_type": "code",
   "execution_count": 100,
   "metadata": {},
   "outputs": [
    {
     "name": "stdout",
     "output_type": "stream",
     "text": [
      "Confusion Matrix for Random Search Optimized XGBoost Model\n",
      "\n",
      "[[5343  853]\n",
      " [1289 2515]]\n"
     ]
    }
   ],
   "source": [
    "# Generate Confusion Matrix for XGBoost Model with enhanced features\n",
    "actual = y_test\n",
    "predictions = xgbc_un_op.predict(X_test)\n",
    "print('Confusion Matrix for Random Search Optimized XGBoost Model')\n",
    "print\n",
    "cm_xgbc_un_op = confusion_matrix(actual,predictions)\n",
    "print(cm_xgbc_un_op)"
   ]
  },
  {
   "cell_type": "code",
   "execution_count": 101,
   "metadata": {},
   "outputs": [
    {
     "data": {
      "text/plain": [
       "Text(0,0.5,'Feature')"
      ]
     },
     "execution_count": 101,
     "metadata": {},
     "output_type": "execute_result"
    },
    {
     "data": {
      "image/png": "[encoded data removed]",
      "text/plain": [
       "<Figure size 864x648 with 1 Axes>"
      ]
     },
     "metadata": {
      "needs_background": "light"
     },
     "output_type": "display_data"
    }
   ],
   "source": [
    "n_features = X.shape[1]\n",
    "\n",
    "#plt.figure(figsize=(9,6))\n",
    "plt.figure(figsize=(12,9))\n",
    "plt.barh(range(n_features),xgbc_un_op.feature_importances_, align='center')\n",
    "plt.yticks(np.arange(n_features),X.columns,fontsize=14,fontweight='bold')\n",
    "\n",
    "plt.xlabel('Feature Importance',fontsize=16,fontweight='bold')\n",
    "plt.ylabel('Feature',fontsize=16,fontweight='bold')\n",
    "#plt.savefig('XGBoost_Op_Feature_Importances.png')"
   ]
  },
  {
   "cell_type": "code",
   "execution_count": null,
   "metadata": {},
   "outputs": [],
   "source": []
  }
 ],
 "metadata": {
  "kernelspec": {
   "display_name": "Python 2",
   "language": "python",
   "name": "python2"
  },
  "language_info": {
   "codemirror_mode": {
    "name": "ipython",
    "version": 2
   },
   "file_extension": ".py",
   "mimetype": "text/x-python",
   "name": "python",
   "nbconvert_exporter": "python",
   "pygments_lexer": "ipython2",
   "version": "2.7.16"
  }
 },
 "nbformat": 4,
 "nbformat_minor": 2
}
